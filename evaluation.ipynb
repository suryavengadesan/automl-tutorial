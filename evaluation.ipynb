{
 "cells": [
  {
   "cell_type": "code",
   "execution_count": null,
   "id": "e0a26da3",
   "metadata": {},
   "outputs": [],
   "source": [
    "import wandb\n",
    "wandb.login()"
   ]
  },
  {
   "cell_type": "code",
   "execution_count": null,
   "id": "cef40ff6",
   "metadata": {},
   "outputs": [],
   "source": [
    "from wandb import log\n",
    "import experiments"
   ]
  },
  {
   "cell_type": "code",
   "execution_count": null,
   "id": "55991d92",
   "metadata": {},
   "outputs": [],
   "source": [
    "wandb.init(project='testing-schedulers')\n",
    "\n",
    "experiments.run_sweep(sweep_name=\"automl\")\n",
    "\n",
    "wandb.finish()"
   ]
  }
 ],
 "metadata": {
  "kernelspec": {
   "display_name": "Python 3 (ipykernel)",
   "language": "python",
   "name": "python3"
  },
  "language_info": {
   "codemirror_mode": {
    "name": "ipython",
    "version": 3
   },
   "file_extension": ".py",
   "mimetype": "text/x-python",
   "name": "python",
   "nbconvert_exporter": "python",
   "pygments_lexer": "ipython3",
   "version": "3.7.16"
  }
 },
 "nbformat": 4,
 "nbformat_minor": 5
}
